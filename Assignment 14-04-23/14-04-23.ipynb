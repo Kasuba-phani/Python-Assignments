{
 "cells": [
  {
   "cell_type": "code",
   "execution_count": 41,
   "id": "be6e9cb3",
   "metadata": {
    "ExecuteTime": {
     "end_time": "2023-04-25T09:27:43.895393Z",
     "start_time": "2023-04-25T09:27:28.756737Z"
    }
   },
   "outputs": [
    {
     "name": "stdout",
     "output_type": "stream",
     "text": [
      "Enter your space( ) seperated value(s)5 10 20 100\n"
     ]
    }
   ],
   "source": [
    "inlis = input('Enter your space( ) seperated value(s)')"
   ]
  },
  {
   "cell_type": "code",
   "execution_count": 42,
   "id": "47706744",
   "metadata": {
    "ExecuteTime": {
     "end_time": "2023-04-25T09:27:44.821374Z",
     "start_time": "2023-04-25T09:27:44.797282Z"
    }
   },
   "outputs": [],
   "source": [
    "a = []\n",
    "for i in inlis.split():\n",
    "    a.append(int(i))\n",
    "    "
   ]
  },
  {
   "cell_type": "code",
   "execution_count": 43,
   "id": "cbadca58",
   "metadata": {
    "ExecuteTime": {
     "end_time": "2023-04-25T09:27:45.582306Z",
     "start_time": "2023-04-25T09:27:45.559747Z"
    }
   },
   "outputs": [
    {
     "data": {
      "text/plain": [
       "[5, 10, 20, 100]"
      ]
     },
     "execution_count": 43,
     "metadata": {},
     "output_type": "execute_result"
    }
   ],
   "source": [
    "a"
   ]
  },
  {
   "cell_type": "code",
   "execution_count": 44,
   "id": "c05c0ad3",
   "metadata": {
    "ExecuteTime": {
     "end_time": "2023-04-25T09:27:46.486140Z",
     "start_time": "2023-04-25T09:27:46.462440Z"
    }
   },
   "outputs": [
    {
     "data": {
      "text/plain": [
       "135"
      ]
     },
     "execution_count": 44,
     "metadata": {},
     "output_type": "execute_result"
    }
   ],
   "source": [
    "sum(a)"
   ]
  },
  {
   "cell_type": "code",
   "execution_count": 45,
   "id": "44cd60d1",
   "metadata": {
    "ExecuteTime": {
     "end_time": "2023-04-25T09:27:50.004850Z",
     "start_time": "2023-04-25T09:27:49.980409Z"
    }
   },
   "outputs": [
    {
     "data": {
      "text/plain": [
       "33.75"
      ]
     },
     "execution_count": 45,
     "metadata": {},
     "output_type": "execute_result"
    }
   ],
   "source": [
    "Arithmetic_mean = sum(a)/len(a)\n",
    "Arithmetic_mean"
   ]
  },
  {
   "cell_type": "code",
   "execution_count": 46,
   "id": "6b70cc1b",
   "metadata": {
    "ExecuteTime": {
     "end_time": "2023-04-25T09:28:00.369052Z",
     "start_time": "2023-04-25T09:28:00.358010Z"
    }
   },
   "outputs": [
    {
     "data": {
      "text/plain": [
       "100000"
      ]
     },
     "execution_count": 46,
     "metadata": {},
     "output_type": "execute_result"
    }
   ],
   "source": [
    "mul_inlis = 1\n",
    "for i in a:\n",
    "    mul_inlis = i*mul_inlis\n",
    "    \n",
    "mul_inlis"
   ]
  },
  {
   "cell_type": "code",
   "execution_count": 48,
   "id": "c3a1121a",
   "metadata": {
    "ExecuteTime": {
     "end_time": "2023-04-25T09:29:24.736592Z",
     "start_time": "2023-04-25T09:29:24.721852Z"
    }
   },
   "outputs": [
    {
     "data": {
      "text/plain": [
       "17.78279410038923"
      ]
     },
     "execution_count": 48,
     "metadata": {},
     "output_type": "execute_result"
    }
   ],
   "source": [
    "Geometric_mean = pow(mul_inlis,1/len(a))\n",
    "Geometric_mean"
   ]
  },
  {
   "cell_type": "code",
   "execution_count": 56,
   "id": "48a0e0ad",
   "metadata": {
    "ExecuteTime": {
     "end_time": "2023-04-25T09:34:22.764470Z",
     "start_time": "2023-04-25T09:34:22.748469Z"
    }
   },
   "outputs": [
    {
     "data": {
      "text/plain": [
       "0.36000000000000004"
      ]
     },
     "execution_count": 56,
     "metadata": {},
     "output_type": "execute_result"
    }
   ],
   "source": [
    "den = []\n",
    "for i in a:\n",
    "    den.append((1/i))"
   ]
  },
  {
   "cell_type": "code",
   "execution_count": 57,
   "id": "879619d3",
   "metadata": {
    "ExecuteTime": {
     "end_time": "2023-04-25T09:34:31.767942Z",
     "start_time": "2023-04-25T09:34:31.752288Z"
    }
   },
   "outputs": [
    {
     "data": {
      "text/plain": [
       "0.36000000000000004"
      ]
     },
     "execution_count": 57,
     "metadata": {},
     "output_type": "execute_result"
    }
   ],
   "source": [
    "sum(den)"
   ]
  },
  {
   "cell_type": "code",
   "execution_count": 59,
   "id": "16df711e",
   "metadata": {
    "ExecuteTime": {
     "end_time": "2023-04-25T09:35:18.455791Z",
     "start_time": "2023-04-25T09:35:18.431217Z"
    }
   },
   "outputs": [
    {
     "data": {
      "text/plain": [
       "11.111111111111109"
      ]
     },
     "execution_count": 59,
     "metadata": {},
     "output_type": "execute_result"
    }
   ],
   "source": [
    "Harmonic_mean = len(a)/sum(den)\n",
    "Harmonic_mean"
   ]
  },
  {
   "cell_type": "code",
   "execution_count": 68,
   "id": "8d1b5090",
   "metadata": {
    "ExecuteTime": {
     "end_time": "2023-04-25T10:06:04.456702Z",
     "start_time": "2023-04-25T10:05:52.049595Z"
    }
   },
   "outputs": [
    {
     "name": "stdout",
     "output_type": "stream",
     "text": [
      "Enter your space( ) seperated value(s)1 2 3 4 5 6 7 8 9 10\n",
      "Arithematic_mean is 5.5\n",
      "Geometric_mean is 4.528728688116765\n",
      "Harmonic mean is 3.414171521474055\n"
     ]
    }
   ],
   "source": [
    "inlis = input('Enter your space( ) seperated value(s)')\n",
    "\n",
    "def means(inlis):\n",
    "    a = [] #*args and *kwargs\n",
    "    for i in inlis.split():\n",
    "        a.append(int(i))\n",
    "    \n",
    "    Arithematic_mean = sum(a)/len(a)\n",
    "    print('Arithematic_mean is',Arithematic_mean)\n",
    "    \n",
    "    mul_inlis = 1\n",
    "    for i in a:\n",
    "        mul_inlis = i*mul_inlis\n",
    "    Geometric_mean = pow(mul_inlis,1/len(a))\n",
    "    print('Geometric_mean is',Geometric_mean)\n",
    "    \n",
    "    den = []\n",
    "    for i in a:\n",
    "        den.append((1/i))\n",
    "    Harmonic_mean = len(a)/sum(den)\n",
    "    print('Harmonic mean is',Harmonic_mean)\n",
    "    \n",
    "means(inlis)    "
   ]
  }
 ],
 "metadata": {
  "kernelspec": {
   "display_name": "Python 3 (ipykernel)",
   "language": "python",
   "name": "python3"
  },
  "language_info": {
   "codemirror_mode": {
    "name": "ipython",
    "version": 3
   },
   "file_extension": ".py",
   "mimetype": "text/x-python",
   "name": "python",
   "nbconvert_exporter": "python",
   "pygments_lexer": "ipython3",
   "version": "3.9.7"
  },
  "toc": {
   "base_numbering": 1,
   "nav_menu": {},
   "number_sections": true,
   "sideBar": true,
   "skip_h1_title": false,
   "title_cell": "Table of Contents",
   "title_sidebar": "Contents",
   "toc_cell": false,
   "toc_position": {},
   "toc_section_display": true,
   "toc_window_display": false
  },
  "varInspector": {
   "cols": {
    "lenName": 16,
    "lenType": 16,
    "lenVar": 40
   },
   "kernels_config": {
    "python": {
     "delete_cmd_postfix": "",
     "delete_cmd_prefix": "del ",
     "library": "var_list.py",
     "varRefreshCmd": "print(var_dic_list())"
    },
    "r": {
     "delete_cmd_postfix": ") ",
     "delete_cmd_prefix": "rm(",
     "library": "var_list.r",
     "varRefreshCmd": "cat(var_dic_list()) "
    }
   },
   "types_to_exclude": [
    "module",
    "function",
    "builtin_function_or_method",
    "instance",
    "_Feature"
   ],
   "window_display": false
  }
 },
 "nbformat": 4,
 "nbformat_minor": 5
}
