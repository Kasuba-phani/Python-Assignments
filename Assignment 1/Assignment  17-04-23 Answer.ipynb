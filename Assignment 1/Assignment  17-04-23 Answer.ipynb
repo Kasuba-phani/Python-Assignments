{
 "cells": [
  {
   "cell_type": "code",
   "execution_count": 1,
   "id": "b051b8f2",
   "metadata": {
    "ExecuteTime": {
     "end_time": "2023-04-25T05:38:25.061909Z",
     "start_time": "2023-04-25T05:38:25.052392Z"
    }
   },
   "outputs": [],
   "source": [
    "list1 = [5,12,5,6,2,6,7,8]\n",
    "list2 = [6,4,3,8,1,2,4,6]"
   ]
  },
  {
   "cell_type": "code",
   "execution_count": 2,
   "id": "555e179a",
   "metadata": {
    "ExecuteTime": {
     "end_time": "2023-04-25T05:38:25.668154Z",
     "start_time": "2023-04-25T05:38:25.660177Z"
    }
   },
   "outputs": [],
   "source": [
    "a = []\n",
    "b = []\n",
    "for i in range(len(list1)):\n",
    "    if list1[i]>list2[i]:\n",
    "         a.append(list1[i]-list2[i])\n",
    "    else:\n",
    "        b.append(list2[i]-list1[i])"
   ]
  },
  {
   "cell_type": "code",
   "execution_count": 3,
   "id": "90d3e8ee",
   "metadata": {
    "ExecuteTime": {
     "end_time": "2023-04-25T05:38:29.879258Z",
     "start_time": "2023-04-25T05:38:29.860309Z"
    }
   },
   "outputs": [
    {
     "data": {
      "text/plain": [
       "[8, 2, 1, 4, 3, 2]"
      ]
     },
     "execution_count": 3,
     "metadata": {},
     "output_type": "execute_result"
    }
   ],
   "source": [
    "a"
   ]
  },
  {
   "cell_type": "code",
   "execution_count": 4,
   "id": "5bab3723",
   "metadata": {
    "ExecuteTime": {
     "end_time": "2023-04-25T05:38:32.637493Z",
     "start_time": "2023-04-25T05:38:32.622500Z"
    }
   },
   "outputs": [
    {
     "data": {
      "text/plain": [
       "[1, 2]"
      ]
     },
     "execution_count": 4,
     "metadata": {},
     "output_type": "execute_result"
    }
   ],
   "source": [
    "b"
   ]
  },
  {
   "cell_type": "code",
   "execution_count": 6,
   "id": "e290e473",
   "metadata": {
    "ExecuteTime": {
     "end_time": "2023-04-25T05:38:51.984575Z",
     "start_time": "2023-04-25T05:38:51.975400Z"
    }
   },
   "outputs": [
    {
     "data": {
      "text/plain": [
       "23"
      ]
     },
     "execution_count": 6,
     "metadata": {},
     "output_type": "execute_result"
    }
   ],
   "source": [
    "output = sum(a)+sum(b)\n",
    "output"
   ]
  },
  {
   "cell_type": "code",
   "execution_count": null,
   "id": "0c8cf78d",
   "metadata": {},
   "outputs": [],
   "source": []
  }
 ],
 "metadata": {
  "kernelspec": {
   "display_name": "Python 3 (ipykernel)",
   "language": "python",
   "name": "python3"
  },
  "language_info": {
   "codemirror_mode": {
    "name": "ipython",
    "version": 3
   },
   "file_extension": ".py",
   "mimetype": "text/x-python",
   "name": "python",
   "nbconvert_exporter": "python",
   "pygments_lexer": "ipython3",
   "version": "3.9.7"
  },
  "toc": {
   "base_numbering": 1,
   "nav_menu": {},
   "number_sections": true,
   "sideBar": true,
   "skip_h1_title": false,
   "title_cell": "Table of Contents",
   "title_sidebar": "Contents",
   "toc_cell": false,
   "toc_position": {},
   "toc_section_display": true,
   "toc_window_display": false
  },
  "varInspector": {
   "cols": {
    "lenName": 16,
    "lenType": 16,
    "lenVar": 40
   },
   "kernels_config": {
    "python": {
     "delete_cmd_postfix": "",
     "delete_cmd_prefix": "del ",
     "library": "var_list.py",
     "varRefreshCmd": "print(var_dic_list())"
    },
    "r": {
     "delete_cmd_postfix": ") ",
     "delete_cmd_prefix": "rm(",
     "library": "var_list.r",
     "varRefreshCmd": "cat(var_dic_list()) "
    }
   },
   "types_to_exclude": [
    "module",
    "function",
    "builtin_function_or_method",
    "instance",
    "_Feature"
   ],
   "window_display": false
  }
 },
 "nbformat": 4,
 "nbformat_minor": 5
}
